{
 "cells": [
  {
   "cell_type": "code",
   "execution_count": 3,
   "id": "16788943",
   "metadata": {},
   "outputs": [
    {
     "name": "stdout",
     "output_type": "stream",
     "text": [
      "Collecting pandas-datareader\n",
      "  Downloading pandas_datareader-0.10.0-py3-none-any.whl (109 kB)\n",
      "Requirement already satisfied: requests>=2.19.0 in c:\\users\\risha\\anaconda3\\lib\\site-packages (from pandas-datareader) (2.26.0)\n",
      "Requirement already satisfied: pandas>=0.23 in c:\\users\\risha\\anaconda3\\lib\\site-packages (from pandas-datareader) (1.3.4)\n",
      "Requirement already satisfied: lxml in c:\\users\\risha\\anaconda3\\lib\\site-packages (from pandas-datareader) (4.6.3)\n",
      "Requirement already satisfied: pytz>=2017.3 in c:\\users\\risha\\anaconda3\\lib\\site-packages (from pandas>=0.23->pandas-datareader) (2021.3)\n",
      "Requirement already satisfied: numpy>=1.17.3 in c:\\users\\risha\\anaconda3\\lib\\site-packages (from pandas>=0.23->pandas-datareader) (1.20.3)\n",
      "Requirement already satisfied: python-dateutil>=2.7.3 in c:\\users\\risha\\anaconda3\\lib\\site-packages (from pandas>=0.23->pandas-datareader) (2.8.2)\n",
      "Requirement already satisfied: six>=1.5 in c:\\users\\risha\\anaconda3\\lib\\site-packages (from python-dateutil>=2.7.3->pandas>=0.23->pandas-datareader) (1.16.0)Note: you may need to restart the kernel to use updated packages.\n",
      "Requirement already satisfied: idna<4,>=2.5 in c:\\users\\risha\\anaconda3\\lib\\site-packages (from requests>=2.19.0->pandas-datareader) (3.2)\n",
      "Requirement already satisfied: charset-normalizer~=2.0.0 in c:\\users\\risha\\anaconda3\\lib\\site-packages (from requests>=2.19.0->pandas-datareader) (2.0.4)\n",
      "\n",
      "Requirement already satisfied: certifi>=2017.4.17 in c:\\users\\risha\\anaconda3\\lib\\site-packages (from requests>=2.19.0->pandas-datareader) (2021.10.8)\n",
      "Requirement already satisfied: urllib3<1.27,>=1.21.1 in c:\\users\\risha\\anaconda3\\lib\\site-packages (from requests>=2.19.0->pandas-datareader) (1.26.7)\n",
      "Installing collected packages: pandas-datareader\n",
      "Successfully installed pandas-datareader-0.10.0\n"
     ]
    }
   ],
   "source": [
    "pip install pandas-datareader"
   ]
  },
  {
   "cell_type": "code",
   "execution_count": 3,
   "id": "ac6d4716",
   "metadata": {},
   "outputs": [
    {
     "name": "stdout",
     "output_type": "stream",
     "text": [
      "Requirement already satisfied: joblib in c:\\users\\risha\\anaconda3\\lib\\site-packages (1.1.0)\n",
      "Note: you may need to restart the kernel to use updated packages.\n"
     ]
    }
   ],
   "source": [
    "pip install joblib"
   ]
  },
  {
   "cell_type": "code",
   "execution_count": 12,
   "id": "2d0fdf42",
   "metadata": {},
   "outputs": [],
   "source": [
    "import numpy as np\n",
    "import pandas as pd\n",
    "import matplotlib.pyplot as plt\n",
    "import pandas_datareader.data as data"
   ]
  },
  {
   "cell_type": "code",
   "execution_count": 13,
   "id": "e1e52458",
   "metadata": {},
   "outputs": [
    {
     "ename": "TypeError",
     "evalue": "string indices must be integers",
     "output_type": "error",
     "traceback": [
      "\u001b[1;31m---------------------------------------------------------------------------\u001b[0m",
      "\u001b[1;31mTypeError\u001b[0m                                 Traceback (most recent call last)",
      "\u001b[1;32m~\\AppData\\Local\\Temp/ipykernel_10080/4049462100.py\u001b[0m in \u001b[0;36m<module>\u001b[1;34m\u001b[0m\n\u001b[0;32m      3\u001b[0m \u001b[0mend\u001b[0m \u001b[1;33m=\u001b[0m \u001b[0mdatetime\u001b[0m\u001b[1;33m.\u001b[0m\u001b[0mdatetime\u001b[0m\u001b[1;33m(\u001b[0m\u001b[1;36m2019\u001b[0m\u001b[1;33m,\u001b[0m\u001b[1;36m12\u001b[0m\u001b[1;33m,\u001b[0m\u001b[1;36m31\u001b[0m\u001b[1;33m)\u001b[0m\u001b[1;33m\u001b[0m\u001b[1;33m\u001b[0m\u001b[0m\n\u001b[0;32m      4\u001b[0m \u001b[1;33m\u001b[0m\u001b[0m\n\u001b[1;32m----> 5\u001b[1;33m \u001b[0mdf\u001b[0m\u001b[1;33m=\u001b[0m\u001b[0mdata\u001b[0m\u001b[1;33m.\u001b[0m\u001b[0mDataReader\u001b[0m\u001b[1;33m(\u001b[0m\u001b[1;34m'GOOGL'\u001b[0m\u001b[1;33m,\u001b[0m \u001b[1;34m'yahoo'\u001b[0m\u001b[1;33m,\u001b[0m \u001b[0mstart\u001b[0m\u001b[1;33m,\u001b[0m \u001b[0mend\u001b[0m\u001b[1;33m)\u001b[0m\u001b[1;33m\u001b[0m\u001b[1;33m\u001b[0m\u001b[0m\n\u001b[0m\u001b[0;32m      6\u001b[0m \u001b[0mdf\u001b[0m\u001b[1;33m.\u001b[0m\u001b[0mhead\u001b[0m\u001b[1;33m(\u001b[0m\u001b[1;33m)\u001b[0m\u001b[1;33m\u001b[0m\u001b[1;33m\u001b[0m\u001b[0m\n",
      "\u001b[1;32m~\\anaconda3\\lib\\site-packages\\pandas\\util\\_decorators.py\u001b[0m in \u001b[0;36mwrapper\u001b[1;34m(*args, **kwargs)\u001b[0m\n\u001b[0;32m    205\u001b[0m                 \u001b[1;32melse\u001b[0m\u001b[1;33m:\u001b[0m\u001b[1;33m\u001b[0m\u001b[1;33m\u001b[0m\u001b[0m\n\u001b[0;32m    206\u001b[0m                     \u001b[0mkwargs\u001b[0m\u001b[1;33m[\u001b[0m\u001b[0mnew_arg_name\u001b[0m\u001b[1;33m]\u001b[0m \u001b[1;33m=\u001b[0m \u001b[0mnew_arg_value\u001b[0m\u001b[1;33m\u001b[0m\u001b[1;33m\u001b[0m\u001b[0m\n\u001b[1;32m--> 207\u001b[1;33m             \u001b[1;32mreturn\u001b[0m \u001b[0mfunc\u001b[0m\u001b[1;33m(\u001b[0m\u001b[1;33m*\u001b[0m\u001b[0margs\u001b[0m\u001b[1;33m,\u001b[0m \u001b[1;33m**\u001b[0m\u001b[0mkwargs\u001b[0m\u001b[1;33m)\u001b[0m\u001b[1;33m\u001b[0m\u001b[1;33m\u001b[0m\u001b[0m\n\u001b[0m\u001b[0;32m    208\u001b[0m \u001b[1;33m\u001b[0m\u001b[0m\n\u001b[0;32m    209\u001b[0m         \u001b[1;32mreturn\u001b[0m \u001b[0mcast\u001b[0m\u001b[1;33m(\u001b[0m\u001b[0mF\u001b[0m\u001b[1;33m,\u001b[0m \u001b[0mwrapper\u001b[0m\u001b[1;33m)\u001b[0m\u001b[1;33m\u001b[0m\u001b[1;33m\u001b[0m\u001b[0m\n",
      "\u001b[1;32m~\\anaconda3\\lib\\site-packages\\pandas_datareader\\data.py\u001b[0m in \u001b[0;36mDataReader\u001b[1;34m(name, data_source, start, end, retry_count, pause, session, api_key)\u001b[0m\n\u001b[0;32m    368\u001b[0m \u001b[1;33m\u001b[0m\u001b[0m\n\u001b[0;32m    369\u001b[0m     \u001b[1;32mif\u001b[0m \u001b[0mdata_source\u001b[0m \u001b[1;33m==\u001b[0m \u001b[1;34m\"yahoo\"\u001b[0m\u001b[1;33m:\u001b[0m\u001b[1;33m\u001b[0m\u001b[1;33m\u001b[0m\u001b[0m\n\u001b[1;32m--> 370\u001b[1;33m         return YahooDailyReader(\n\u001b[0m\u001b[0;32m    371\u001b[0m             \u001b[0msymbols\u001b[0m\u001b[1;33m=\u001b[0m\u001b[0mname\u001b[0m\u001b[1;33m,\u001b[0m\u001b[1;33m\u001b[0m\u001b[1;33m\u001b[0m\u001b[0m\n\u001b[0;32m    372\u001b[0m             \u001b[0mstart\u001b[0m\u001b[1;33m=\u001b[0m\u001b[0mstart\u001b[0m\u001b[1;33m,\u001b[0m\u001b[1;33m\u001b[0m\u001b[1;33m\u001b[0m\u001b[0m\n",
      "\u001b[1;32m~\\anaconda3\\lib\\site-packages\\pandas_datareader\\base.py\u001b[0m in \u001b[0;36mread\u001b[1;34m(self)\u001b[0m\n\u001b[0;32m    251\u001b[0m         \u001b[1;31m# If a single symbol, (e.g., 'GOOG')\u001b[0m\u001b[1;33m\u001b[0m\u001b[1;33m\u001b[0m\u001b[0m\n\u001b[0;32m    252\u001b[0m         \u001b[1;32mif\u001b[0m \u001b[0misinstance\u001b[0m\u001b[1;33m(\u001b[0m\u001b[0mself\u001b[0m\u001b[1;33m.\u001b[0m\u001b[0msymbols\u001b[0m\u001b[1;33m,\u001b[0m \u001b[1;33m(\u001b[0m\u001b[0mstring_types\u001b[0m\u001b[1;33m,\u001b[0m \u001b[0mint\u001b[0m\u001b[1;33m)\u001b[0m\u001b[1;33m)\u001b[0m\u001b[1;33m:\u001b[0m\u001b[1;33m\u001b[0m\u001b[1;33m\u001b[0m\u001b[0m\n\u001b[1;32m--> 253\u001b[1;33m             \u001b[0mdf\u001b[0m \u001b[1;33m=\u001b[0m \u001b[0mself\u001b[0m\u001b[1;33m.\u001b[0m\u001b[0m_read_one_data\u001b[0m\u001b[1;33m(\u001b[0m\u001b[0mself\u001b[0m\u001b[1;33m.\u001b[0m\u001b[0murl\u001b[0m\u001b[1;33m,\u001b[0m \u001b[0mparams\u001b[0m\u001b[1;33m=\u001b[0m\u001b[0mself\u001b[0m\u001b[1;33m.\u001b[0m\u001b[0m_get_params\u001b[0m\u001b[1;33m(\u001b[0m\u001b[0mself\u001b[0m\u001b[1;33m.\u001b[0m\u001b[0msymbols\u001b[0m\u001b[1;33m)\u001b[0m\u001b[1;33m)\u001b[0m\u001b[1;33m\u001b[0m\u001b[1;33m\u001b[0m\u001b[0m\n\u001b[0m\u001b[0;32m    254\u001b[0m         \u001b[1;31m# Or multiple symbols, (e.g., ['GOOG', 'AAPL', 'MSFT'])\u001b[0m\u001b[1;33m\u001b[0m\u001b[1;33m\u001b[0m\u001b[0m\n\u001b[0;32m    255\u001b[0m         \u001b[1;32melif\u001b[0m \u001b[0misinstance\u001b[0m\u001b[1;33m(\u001b[0m\u001b[0mself\u001b[0m\u001b[1;33m.\u001b[0m\u001b[0msymbols\u001b[0m\u001b[1;33m,\u001b[0m \u001b[0mDataFrame\u001b[0m\u001b[1;33m)\u001b[0m\u001b[1;33m:\u001b[0m\u001b[1;33m\u001b[0m\u001b[1;33m\u001b[0m\u001b[0m\n",
      "\u001b[1;32m~\\anaconda3\\lib\\site-packages\\pandas_datareader\\yahoo\\daily.py\u001b[0m in \u001b[0;36m_read_one_data\u001b[1;34m(self, url, params)\u001b[0m\n\u001b[0;32m    151\u001b[0m         \u001b[1;32mtry\u001b[0m\u001b[1;33m:\u001b[0m\u001b[1;33m\u001b[0m\u001b[1;33m\u001b[0m\u001b[0m\n\u001b[0;32m    152\u001b[0m             \u001b[0mj\u001b[0m \u001b[1;33m=\u001b[0m \u001b[0mjson\u001b[0m\u001b[1;33m.\u001b[0m\u001b[0mloads\u001b[0m\u001b[1;33m(\u001b[0m\u001b[0mre\u001b[0m\u001b[1;33m.\u001b[0m\u001b[0msearch\u001b[0m\u001b[1;33m(\u001b[0m\u001b[0mptrn\u001b[0m\u001b[1;33m,\u001b[0m \u001b[0mresp\u001b[0m\u001b[1;33m.\u001b[0m\u001b[0mtext\u001b[0m\u001b[1;33m,\u001b[0m \u001b[0mre\u001b[0m\u001b[1;33m.\u001b[0m\u001b[0mDOTALL\u001b[0m\u001b[1;33m)\u001b[0m\u001b[1;33m.\u001b[0m\u001b[0mgroup\u001b[0m\u001b[1;33m(\u001b[0m\u001b[1;36m1\u001b[0m\u001b[1;33m)\u001b[0m\u001b[1;33m)\u001b[0m\u001b[1;33m\u001b[0m\u001b[1;33m\u001b[0m\u001b[0m\n\u001b[1;32m--> 153\u001b[1;33m             \u001b[0mdata\u001b[0m \u001b[1;33m=\u001b[0m \u001b[0mj\u001b[0m\u001b[1;33m[\u001b[0m\u001b[1;34m\"context\"\u001b[0m\u001b[1;33m]\u001b[0m\u001b[1;33m[\u001b[0m\u001b[1;34m\"dispatcher\"\u001b[0m\u001b[1;33m]\u001b[0m\u001b[1;33m[\u001b[0m\u001b[1;34m\"stores\"\u001b[0m\u001b[1;33m]\u001b[0m\u001b[1;33m[\u001b[0m\u001b[1;34m\"HistoricalPriceStore\"\u001b[0m\u001b[1;33m]\u001b[0m\u001b[1;33m\u001b[0m\u001b[1;33m\u001b[0m\u001b[0m\n\u001b[0m\u001b[0;32m    154\u001b[0m         \u001b[1;32mexcept\u001b[0m \u001b[0mKeyError\u001b[0m\u001b[1;33m:\u001b[0m\u001b[1;33m\u001b[0m\u001b[1;33m\u001b[0m\u001b[0m\n\u001b[0;32m    155\u001b[0m             \u001b[0mmsg\u001b[0m \u001b[1;33m=\u001b[0m \u001b[1;34m\"No data fetched for symbol {} using {}\"\u001b[0m\u001b[1;33m\u001b[0m\u001b[1;33m\u001b[0m\u001b[0m\n",
      "\u001b[1;31mTypeError\u001b[0m: string indices must be integers"
     ]
    }
   ],
   "source": [
    "import datetime\n",
    "start = datetime.datetime(2010, 1, 1)\n",
    "end = datetime.datetime(2019,12,31)\n",
    "\n",
    "df=data.DataReader('GOOGL', 'yahoo', start, end)\n",
    "df.head()"
   ]
  },
  {
   "cell_type": "code",
   "execution_count": 15,
   "id": "9dc4465f",
   "metadata": {},
   "outputs": [
    {
     "name": "stdout",
     "output_type": "stream",
     "text": [
      "Collecting yfinance\n",
      "  Downloading yfinance-0.2.12-py2.py3-none-any.whl (59 kB)\n",
      "Collecting multitasking>=0.0.7\n",
      "  Downloading multitasking-0.0.11-py3-none-any.whl (8.5 kB)\n",
      "Requirement already satisfied: numpy>=1.16.5 in c:\\users\\risha\\anaconda3\\lib\\site-packages (from yfinance) (1.20.3)\n",
      "Collecting beautifulsoup4>=4.11.1\n",
      "  Downloading beautifulsoup4-4.11.2-py3-none-any.whl (129 kB)\n",
      "Requirement already satisfied: html5lib>=1.1 in c:\\users\\risha\\anaconda3\\lib\\site-packages (from yfinance) (1.1)\n",
      "Collecting lxml>=4.9.1\n",
      "  Downloading lxml-4.9.2-cp39-cp39-win_amd64.whl (3.9 MB)\n",
      "Requirement already satisfied: cryptography>=3.3.2 in c:\\users\\risha\\anaconda3\\lib\\site-packages (from yfinance) (3.4.8)\n",
      "Requirement already satisfied: pandas>=1.3.0 in c:\\users\\risha\\anaconda3\\lib\\site-packages (from yfinance) (1.3.4)\n",
      "Collecting frozendict>=2.3.4\n",
      "  Downloading frozendict-2.3.5-cp39-cp39-win_amd64.whl (35 kB)\n",
      "Requirement already satisfied: requests>=2.26 in c:\\users\\risha\\anaconda3\\lib\\site-packages (from yfinance) (2.26.0)\n",
      "Requirement already satisfied: appdirs>=1.4.4 in c:\\users\\risha\\anaconda3\\lib\\site-packages (from yfinance) (1.4.4)\n",
      "Collecting pytz>=2022.5\n",
      "  Downloading pytz-2022.7.1-py2.py3-none-any.whl (499 kB)\n",
      "Requirement already satisfied: soupsieve>1.2 in c:\\users\\risha\\anaconda3\\lib\\site-packages (from beautifulsoup4>=4.11.1->yfinance) (2.2.1)\n",
      "Requirement already satisfied: cffi>=1.12 in c:\\users\\risha\\anaconda3\\lib\\site-packages (from cryptography>=3.3.2->yfinance) (1.14.6)\n",
      "Requirement already satisfied: pycparser in c:\\users\\risha\\anaconda3\\lib\\site-packages (from cffi>=1.12->cryptography>=3.3.2->yfinance) (2.20)\n",
      "Requirement already satisfied: six>=1.9 in c:\\users\\risha\\anaconda3\\lib\\site-packages (from html5lib>=1.1->yfinance) (1.16.0)\n",
      "Requirement already satisfied: webencodings in c:\\users\\risha\\anaconda3\\lib\\site-packages (from html5lib>=1.1->yfinance) (0.5.1)\n",
      "Requirement already satisfied: python-dateutil>=2.7.3 in c:\\users\\risha\\anaconda3\\lib\\site-packages (from pandas>=1.3.0->yfinance) (2.8.2)\n",
      "Requirement already satisfied: idna<4,>=2.5 in c:\\users\\risha\\anaconda3\\lib\\site-packages (from requests>=2.26->yfinance) (3.2)\n",
      "Requirement already satisfied: charset-normalizer~=2.0.0 in c:\\users\\risha\\anaconda3\\lib\\site-packages (from requests>=2.26->yfinance) (2.0.4)\n",
      "Requirement already satisfied: certifi>=2017.4.17 in c:\\users\\risha\\anaconda3\\lib\\site-packages (from requests>=2.26->yfinance) (2021.10.8)\n",
      "Requirement already satisfied: urllib3<1.27,>=1.21.1 in c:\\users\\risha\\anaconda3\\lib\\site-packages (from requests>=2.26->yfinance) (1.26.7)\n",
      "Installing collected packages: pytz, multitasking, lxml, frozendict, beautifulsoup4, yfinance\n",
      "  Attempting uninstall: pytz\n",
      "    Found existing installation: pytz 2021.3\n",
      "    Uninstalling pytz-2021.3:\n",
      "      Successfully uninstalled pytz-2021.3\n",
      "  Attempting uninstall: lxml\n",
      "    Found existing installation: lxml 4.6.3\n",
      "    Uninstalling lxml-4.6.3:\n",
      "      Successfully uninstalled lxml-4.6.3\n",
      "  Attempting uninstall: beautifulsoup4\n",
      "    Found existing installation: beautifulsoup4 4.10.0\n",
      "    Uninstalling beautifulsoup4-4.10.0:\n",
      "      Successfully uninstalled beautifulsoup4-4.10.0\n",
      "Successfully installed beautifulsoup4-4.11.2 frozendict-2.3.5 lxml-4.9.2 multitasking-0.0.11 pytz-2022.7.1 yfinance-0.2.12\n"
     ]
    },
    {
     "name": "stderr",
     "output_type": "stream",
     "text": [
      "ERROR: pip's dependency resolver does not currently take into account all the packages that are installed. This behaviour is the source of the following dependency conflicts.\n",
      "conda-repo-cli 1.0.4 requires pathlib, which is not installed.\n"
     ]
    }
   ],
   "source": [
    "!pip install yfinance"
   ]
  },
  {
   "cell_type": "code",
   "execution_count": 62,
   "id": "50f166c5",
   "metadata": {},
   "outputs": [
    {
     "name": "stdout",
     "output_type": "stream",
     "text": [
      "[*********************100%***********************]  1 of 1 completed\n"
     ]
    }
   ],
   "source": [
    "from pandas_datareader import data as pdr\n",
    "import yfinance as yf\n",
    "yf.pdr_override()\n",
    "y_symbols = ['TATAPOWER.NS']\n",
    "from datetime import datetime\n",
    "startdate = datetime(2013,1,1)\n",
    "enddate = datetime(2022,12,31)\n",
    "df = pdr.get_data_yahoo(y_symbols, start=startdate, end=enddate)"
   ]
  },
  {
   "cell_type": "code",
   "execution_count": 63,
   "id": "1319d927",
   "metadata": {},
   "outputs": [
    {
     "data": {
      "text/html": [
       "<div>\n",
       "<style scoped>\n",
       "    .dataframe tbody tr th:only-of-type {\n",
       "        vertical-align: middle;\n",
       "    }\n",
       "\n",
       "    .dataframe tbody tr th {\n",
       "        vertical-align: top;\n",
       "    }\n",
       "\n",
       "    .dataframe thead th {\n",
       "        text-align: right;\n",
       "    }\n",
       "</style>\n",
       "<table border=\"1\" class=\"dataframe\">\n",
       "  <thead>\n",
       "    <tr style=\"text-align: right;\">\n",
       "      <th></th>\n",
       "      <th>Open</th>\n",
       "      <th>High</th>\n",
       "      <th>Low</th>\n",
       "      <th>Close</th>\n",
       "      <th>Adj Close</th>\n",
       "      <th>Volume</th>\n",
       "    </tr>\n",
       "    <tr>\n",
       "      <th>Date</th>\n",
       "      <th></th>\n",
       "      <th></th>\n",
       "      <th></th>\n",
       "      <th></th>\n",
       "      <th></th>\n",
       "      <th></th>\n",
       "    </tr>\n",
       "  </thead>\n",
       "  <tbody>\n",
       "    <tr>\n",
       "      <th>2013-01-01</th>\n",
       "      <td>107.309906</td>\n",
       "      <td>107.985420</td>\n",
       "      <td>106.682648</td>\n",
       "      <td>107.502914</td>\n",
       "      <td>86.058044</td>\n",
       "      <td>2104064</td>\n",
       "    </tr>\n",
       "    <tr>\n",
       "      <th>2013-01-02</th>\n",
       "      <td>108.081924</td>\n",
       "      <td>108.419678</td>\n",
       "      <td>107.551163</td>\n",
       "      <td>108.081924</td>\n",
       "      <td>86.521561</td>\n",
       "      <td>1949486</td>\n",
       "    </tr>\n",
       "    <tr>\n",
       "      <th>2013-01-03</th>\n",
       "      <td>108.564430</td>\n",
       "      <td>108.612679</td>\n",
       "      <td>105.910629</td>\n",
       "      <td>106.296638</td>\n",
       "      <td>85.092384</td>\n",
       "      <td>1665263</td>\n",
       "    </tr>\n",
       "    <tr>\n",
       "      <th>2013-01-04</th>\n",
       "      <td>106.151886</td>\n",
       "      <td>106.875648</td>\n",
       "      <td>104.704361</td>\n",
       "      <td>106.344894</td>\n",
       "      <td>85.131012</td>\n",
       "      <td>1408714</td>\n",
       "    </tr>\n",
       "    <tr>\n",
       "      <th>2013-01-07</th>\n",
       "      <td>106.634399</td>\n",
       "      <td>106.634399</td>\n",
       "      <td>104.704361</td>\n",
       "      <td>104.993866</td>\n",
       "      <td>84.049492</td>\n",
       "      <td>1614341</td>\n",
       "    </tr>\n",
       "    <tr>\n",
       "      <th>...</th>\n",
       "      <td>...</td>\n",
       "      <td>...</td>\n",
       "      <td>...</td>\n",
       "      <td>...</td>\n",
       "      <td>...</td>\n",
       "      <td>...</td>\n",
       "    </tr>\n",
       "    <tr>\n",
       "      <th>2022-12-26</th>\n",
       "      <td>197.300003</td>\n",
       "      <td>204.649994</td>\n",
       "      <td>194.600006</td>\n",
       "      <td>203.149994</td>\n",
       "      <td>203.149994</td>\n",
       "      <td>18203352</td>\n",
       "    </tr>\n",
       "    <tr>\n",
       "      <th>2022-12-27</th>\n",
       "      <td>206.800003</td>\n",
       "      <td>208.300003</td>\n",
       "      <td>204.800003</td>\n",
       "      <td>207.699997</td>\n",
       "      <td>207.699997</td>\n",
       "      <td>11851262</td>\n",
       "    </tr>\n",
       "    <tr>\n",
       "      <th>2022-12-28</th>\n",
       "      <td>207.350006</td>\n",
       "      <td>210.300003</td>\n",
       "      <td>206.800003</td>\n",
       "      <td>208.250000</td>\n",
       "      <td>208.250000</td>\n",
       "      <td>8920331</td>\n",
       "    </tr>\n",
       "    <tr>\n",
       "      <th>2022-12-29</th>\n",
       "      <td>208.800003</td>\n",
       "      <td>208.800003</td>\n",
       "      <td>205.000000</td>\n",
       "      <td>205.850006</td>\n",
       "      <td>205.850006</td>\n",
       "      <td>15374707</td>\n",
       "    </tr>\n",
       "    <tr>\n",
       "      <th>2022-12-30</th>\n",
       "      <td>207.399994</td>\n",
       "      <td>210.000000</td>\n",
       "      <td>207.000000</td>\n",
       "      <td>207.699997</td>\n",
       "      <td>207.699997</td>\n",
       "      <td>7372810</td>\n",
       "    </tr>\n",
       "  </tbody>\n",
       "</table>\n",
       "<p>2468 rows × 6 columns</p>\n",
       "</div>"
      ],
      "text/plain": [
       "                  Open        High         Low       Close   Adj Close  \\\n",
       "Date                                                                     \n",
       "2013-01-01  107.309906  107.985420  106.682648  107.502914   86.058044   \n",
       "2013-01-02  108.081924  108.419678  107.551163  108.081924   86.521561   \n",
       "2013-01-03  108.564430  108.612679  105.910629  106.296638   85.092384   \n",
       "2013-01-04  106.151886  106.875648  104.704361  106.344894   85.131012   \n",
       "2013-01-07  106.634399  106.634399  104.704361  104.993866   84.049492   \n",
       "...                ...         ...         ...         ...         ...   \n",
       "2022-12-26  197.300003  204.649994  194.600006  203.149994  203.149994   \n",
       "2022-12-27  206.800003  208.300003  204.800003  207.699997  207.699997   \n",
       "2022-12-28  207.350006  210.300003  206.800003  208.250000  208.250000   \n",
       "2022-12-29  208.800003  208.800003  205.000000  205.850006  205.850006   \n",
       "2022-12-30  207.399994  210.000000  207.000000  207.699997  207.699997   \n",
       "\n",
       "              Volume  \n",
       "Date                  \n",
       "2013-01-01   2104064  \n",
       "2013-01-02   1949486  \n",
       "2013-01-03   1665263  \n",
       "2013-01-04   1408714  \n",
       "2013-01-07   1614341  \n",
       "...              ...  \n",
       "2022-12-26  18203352  \n",
       "2022-12-27  11851262  \n",
       "2022-12-28   8920331  \n",
       "2022-12-29  15374707  \n",
       "2022-12-30   7372810  \n",
       "\n",
       "[2468 rows x 6 columns]"
      ]
     },
     "execution_count": 63,
     "metadata": {},
     "output_type": "execute_result"
    }
   ],
   "source": [
    "df"
   ]
  },
  {
   "cell_type": "code",
   "execution_count": 64,
   "id": "a2628236",
   "metadata": {},
   "outputs": [
    {
     "data": {
      "text/html": [
       "<div>\n",
       "<style scoped>\n",
       "    .dataframe tbody tr th:only-of-type {\n",
       "        vertical-align: middle;\n",
       "    }\n",
       "\n",
       "    .dataframe tbody tr th {\n",
       "        vertical-align: top;\n",
       "    }\n",
       "\n",
       "    .dataframe thead th {\n",
       "        text-align: right;\n",
       "    }\n",
       "</style>\n",
       "<table border=\"1\" class=\"dataframe\">\n",
       "  <thead>\n",
       "    <tr style=\"text-align: right;\">\n",
       "      <th></th>\n",
       "      <th>Date</th>\n",
       "      <th>Open</th>\n",
       "      <th>High</th>\n",
       "      <th>Low</th>\n",
       "      <th>Close</th>\n",
       "      <th>Adj Close</th>\n",
       "      <th>Volume</th>\n",
       "    </tr>\n",
       "  </thead>\n",
       "  <tbody>\n",
       "    <tr>\n",
       "      <th>0</th>\n",
       "      <td>2013-01-01</td>\n",
       "      <td>107.309906</td>\n",
       "      <td>107.985420</td>\n",
       "      <td>106.682648</td>\n",
       "      <td>107.502914</td>\n",
       "      <td>86.058044</td>\n",
       "      <td>2104064</td>\n",
       "    </tr>\n",
       "    <tr>\n",
       "      <th>1</th>\n",
       "      <td>2013-01-02</td>\n",
       "      <td>108.081924</td>\n",
       "      <td>108.419678</td>\n",
       "      <td>107.551163</td>\n",
       "      <td>108.081924</td>\n",
       "      <td>86.521561</td>\n",
       "      <td>1949486</td>\n",
       "    </tr>\n",
       "    <tr>\n",
       "      <th>2</th>\n",
       "      <td>2013-01-03</td>\n",
       "      <td>108.564430</td>\n",
       "      <td>108.612679</td>\n",
       "      <td>105.910629</td>\n",
       "      <td>106.296638</td>\n",
       "      <td>85.092384</td>\n",
       "      <td>1665263</td>\n",
       "    </tr>\n",
       "    <tr>\n",
       "      <th>3</th>\n",
       "      <td>2013-01-04</td>\n",
       "      <td>106.151886</td>\n",
       "      <td>106.875648</td>\n",
       "      <td>104.704361</td>\n",
       "      <td>106.344894</td>\n",
       "      <td>85.131012</td>\n",
       "      <td>1408714</td>\n",
       "    </tr>\n",
       "    <tr>\n",
       "      <th>4</th>\n",
       "      <td>2013-01-07</td>\n",
       "      <td>106.634399</td>\n",
       "      <td>106.634399</td>\n",
       "      <td>104.704361</td>\n",
       "      <td>104.993866</td>\n",
       "      <td>84.049492</td>\n",
       "      <td>1614341</td>\n",
       "    </tr>\n",
       "  </tbody>\n",
       "</table>\n",
       "</div>"
      ],
      "text/plain": [
       "        Date        Open        High         Low       Close  Adj Close  \\\n",
       "0 2013-01-01  107.309906  107.985420  106.682648  107.502914  86.058044   \n",
       "1 2013-01-02  108.081924  108.419678  107.551163  108.081924  86.521561   \n",
       "2 2013-01-03  108.564430  108.612679  105.910629  106.296638  85.092384   \n",
       "3 2013-01-04  106.151886  106.875648  104.704361  106.344894  85.131012   \n",
       "4 2013-01-07  106.634399  106.634399  104.704361  104.993866  84.049492   \n",
       "\n",
       "    Volume  \n",
       "0  2104064  \n",
       "1  1949486  \n",
       "2  1665263  \n",
       "3  1408714  \n",
       "4  1614341  "
      ]
     },
     "execution_count": 64,
     "metadata": {},
     "output_type": "execute_result"
    }
   ],
   "source": [
    "df=df.reset_index()\n",
    "df.head()"
   ]
  },
  {
   "cell_type": "code",
   "execution_count": 65,
   "id": "645d9c75",
   "metadata": {},
   "outputs": [],
   "source": [
    "df=df.drop('Date',axis=1)"
   ]
  },
  {
   "cell_type": "code",
   "execution_count": 66,
   "id": "60f4337b",
   "metadata": {},
   "outputs": [],
   "source": [
    "df=df.drop('Adj Close',axis=1)"
   ]
  },
  {
   "cell_type": "code",
   "execution_count": 67,
   "id": "7091abaa",
   "metadata": {},
   "outputs": [
    {
     "data": {
      "text/html": [
       "<div>\n",
       "<style scoped>\n",
       "    .dataframe tbody tr th:only-of-type {\n",
       "        vertical-align: middle;\n",
       "    }\n",
       "\n",
       "    .dataframe tbody tr th {\n",
       "        vertical-align: top;\n",
       "    }\n",
       "\n",
       "    .dataframe thead th {\n",
       "        text-align: right;\n",
       "    }\n",
       "</style>\n",
       "<table border=\"1\" class=\"dataframe\">\n",
       "  <thead>\n",
       "    <tr style=\"text-align: right;\">\n",
       "      <th></th>\n",
       "      <th>Open</th>\n",
       "      <th>High</th>\n",
       "      <th>Low</th>\n",
       "      <th>Close</th>\n",
       "      <th>Volume</th>\n",
       "    </tr>\n",
       "  </thead>\n",
       "  <tbody>\n",
       "    <tr>\n",
       "      <th>0</th>\n",
       "      <td>107.309906</td>\n",
       "      <td>107.985420</td>\n",
       "      <td>106.682648</td>\n",
       "      <td>107.502914</td>\n",
       "      <td>2104064</td>\n",
       "    </tr>\n",
       "    <tr>\n",
       "      <th>1</th>\n",
       "      <td>108.081924</td>\n",
       "      <td>108.419678</td>\n",
       "      <td>107.551163</td>\n",
       "      <td>108.081924</td>\n",
       "      <td>1949486</td>\n",
       "    </tr>\n",
       "    <tr>\n",
       "      <th>2</th>\n",
       "      <td>108.564430</td>\n",
       "      <td>108.612679</td>\n",
       "      <td>105.910629</td>\n",
       "      <td>106.296638</td>\n",
       "      <td>1665263</td>\n",
       "    </tr>\n",
       "    <tr>\n",
       "      <th>3</th>\n",
       "      <td>106.151886</td>\n",
       "      <td>106.875648</td>\n",
       "      <td>104.704361</td>\n",
       "      <td>106.344894</td>\n",
       "      <td>1408714</td>\n",
       "    </tr>\n",
       "    <tr>\n",
       "      <th>4</th>\n",
       "      <td>106.634399</td>\n",
       "      <td>106.634399</td>\n",
       "      <td>104.704361</td>\n",
       "      <td>104.993866</td>\n",
       "      <td>1614341</td>\n",
       "    </tr>\n",
       "  </tbody>\n",
       "</table>\n",
       "</div>"
      ],
      "text/plain": [
       "         Open        High         Low       Close   Volume\n",
       "0  107.309906  107.985420  106.682648  107.502914  2104064\n",
       "1  108.081924  108.419678  107.551163  108.081924  1949486\n",
       "2  108.564430  108.612679  105.910629  106.296638  1665263\n",
       "3  106.151886  106.875648  104.704361  106.344894  1408714\n",
       "4  106.634399  106.634399  104.704361  104.993866  1614341"
      ]
     },
     "execution_count": 67,
     "metadata": {},
     "output_type": "execute_result"
    }
   ],
   "source": [
    "df.head()"
   ]
  },
  {
   "cell_type": "code",
   "execution_count": 68,
   "id": "e8049519",
   "metadata": {},
   "outputs": [
    {
     "data": {
      "text/plain": [
       "[<matplotlib.lines.Line2D at 0x238af4be910>]"
      ]
     },
     "execution_count": 68,
     "metadata": {},
     "output_type": "execute_result"
    },
    {
     "data": {
      "image/png": "[encoded data removed]",
      "text/plain": [
       "<Figure size 432x288 with 1 Axes>"
      ]
     },
     "metadata": {
      "needs_background": "light"
     },
     "output_type": "display_data"
    }
   ],
   "source": [
    "plt.plot(df.Close)"
   ]
  },
  {
   "cell_type": "code",
   "execution_count": 69,
   "id": "033bf1f5",
   "metadata": {},
   "outputs": [
    {
     "data": {
      "text/plain": [
       "0            NaN\n",
       "1            NaN\n",
       "2            NaN\n",
       "3            NaN\n",
       "4            NaN\n",
       "          ...   \n",
       "2463    226.0965\n",
       "2464    225.8700\n",
       "2465    225.6260\n",
       "2466    225.3595\n",
       "2467    225.1600\n",
       "Name: Close, Length: 2468, dtype: float64"
      ]
     },
     "execution_count": 69,
     "metadata": {},
     "output_type": "execute_result"
    }
   ],
   "source": [
    "ma100=df.Close.rolling(100).mean()\n",
    "ma100"
   ]
  },
  {
   "cell_type": "code",
   "execution_count": 70,
   "id": "90c72666",
   "metadata": {},
   "outputs": [
    {
     "data": {
      "text/plain": [
       "[<matplotlib.lines.Line2D at 0x238af4f3370>]"
      ]
     },
     "execution_count": 70,
     "metadata": {},
     "output_type": "execute_result"
    },
    {
     "data": {
      "image/png": "[encoded data removed]",
      "text/plain": [
       "<Figure size 864x432 with 1 Axes>"
      ]
     },
     "metadata": {
      "needs_background": "light"
     },
     "output_type": "display_data"
    }
   ],
   "source": [
    "plt.figure(figsize=(12,6))\n",
    "plt.plot(df.Close)\n",
    "plt.plot(ma100,'r')"
   ]
  },
  {
   "cell_type": "code",
   "execution_count": 71,
   "id": "0b658a9f",
   "metadata": {},
   "outputs": [
    {
     "data": {
      "text/plain": [
       "0             NaN\n",
       "1             NaN\n",
       "2             NaN\n",
       "3             NaN\n",
       "4             NaN\n",
       "          ...    \n",
       "2463    229.14150\n",
       "2464    229.04525\n",
       "2465    228.94025\n",
       "2466    228.80825\n",
       "2467    228.68100\n",
       "Name: Close, Length: 2468, dtype: float64"
      ]
     },
     "execution_count": 71,
     "metadata": {},
     "output_type": "execute_result"
    }
   ],
   "source": [
    "ma200=df.Close.rolling(200).mean()\n",
    "ma200"
   ]
  },
  {
   "cell_type": "code",
   "execution_count": 72,
   "id": "f65870d9",
   "metadata": {},
   "outputs": [
    {
     "data": {
      "text/plain": [
       "[<matplotlib.lines.Line2D at 0x238af55e190>]"
      ]
     },
     "execution_count": 72,
     "metadata": {},
     "output_type": "execute_result"
    },
    {
     "data": {
      "image/png": "[encoded data removed]",
      "text/plain": [
       "<Figure size 864x432 with 1 Axes>"
      ]
     },
     "metadata": {
      "needs_background": "light"
     },
     "output_type": "display_data"
    }
   ],
   "source": [
    "plt.figure(figsize=(12,6))\n",
    "plt.plot(df.Close)\n",
    "plt.plot(ma100,'r')\n",
    "plt.plot(ma200,'g')"
   ]
  },
  {
   "cell_type": "code",
   "execution_count": 73,
   "id": "4eae91e6",
   "metadata": {},
   "outputs": [
    {
     "data": {
      "text/plain": [
       "(2468, 5)"
      ]
     },
     "execution_count": 73,
     "metadata": {},
     "output_type": "execute_result"
    }
   ],
   "source": [
    "df.shape"
   ]
  },
  {
   "cell_type": "code",
   "execution_count": 74,
   "id": "c30478e4",
   "metadata": {},
   "outputs": [
    {
     "data": {
      "text/plain": [
       "(1727, 1)"
      ]
     },
     "execution_count": 74,
     "metadata": {},
     "output_type": "execute_result"
    }
   ],
   "source": [
    "data_train=pd.DataFrame(df['Close'][0:int(len(df)*0.70)])\n",
    "data_test=pd.DataFrame(df['Close'][int(len(df)*0.70):int(len(df))])\n",
    "\n",
    "data_train.shape"
   ]
  },
  {
   "cell_type": "code",
   "execution_count": 75,
   "id": "49c29f13",
   "metadata": {},
   "outputs": [
    {
     "data": {
      "text/plain": [
       "(741, 1)"
      ]
     },
     "execution_count": 75,
     "metadata": {},
     "output_type": "execute_result"
    }
   ],
   "source": [
    "data_test.shape"
   ]
  },
  {
   "cell_type": "code",
   "execution_count": 76,
   "id": "395a1b41",
   "metadata": {},
   "outputs": [
    {
     "data": {
      "text/plain": [
       "(1727, 1)"
      ]
     },
     "execution_count": 76,
     "metadata": {},
     "output_type": "execute_result"
    }
   ],
   "source": [
    "from sklearn.preprocessing import MinMaxScaler\n",
    "scaler=MinMaxScaler(feature_range=(0,1))\n",
    "\n",
    "data_train_array=scaler.fit_transform(data_train)\n",
    "data_train_array.shape"
   ]
  },
  {
   "cell_type": "code",
   "execution_count": 78,
   "id": "6c5684f4",
   "metadata": {},
   "outputs": [],
   "source": [
    "x_train=[]\n",
    "y_train=[]\n",
    "\n",
    "for i in range(100,data_train_array.shape[0]):\n",
    "    x_train.append(data_train_array[i-100:i])\n",
    "    y_train.append(data_train_array[i,0])\n",
    "    \n",
    "x_train,y_train=np.array(x_train),np.array(y_train)\n",
    "    "
   ]
  },
  {
   "cell_type": "code",
   "execution_count": 80,
   "id": "54d75828",
   "metadata": {},
   "outputs": [
    {
     "data": {
      "text/plain": [
       "(1627, 100, 1)"
      ]
     },
     "execution_count": 80,
     "metadata": {},
     "output_type": "execute_result"
    }
   ],
   "source": [
    "x_train.shape"
   ]
  },
  {
   "cell_type": "code",
   "execution_count": 79,
   "id": "a61a6924",
   "metadata": {},
   "outputs": [],
   "source": [
    "from keras.layers import Dense,Dropout,LSTM\n",
    "from keras.models import Sequential"
   ]
  },
  {
   "cell_type": "markdown",
   "id": "336d5cfc",
   "metadata": {},
   "source": [
    "model=Sequential()\n",
    "\n",
    "model.add(LSTM(units=50,activation='relu',return_sequences=True,\n",
    "              input_shape=(x_train.shape[1],1)))\n",
    "model.add(Dropout(0.2))\n",
    "\n",
    "model.add(LSTM(units=60,activation='relu',return_sequences=True))\n",
    "model.add(Dropout(0.3))\n",
    "\n",
    "model.add(LSTM(units=80,activation='relu',return_sequences=True))\n",
    "model.add(Dropout(0.4))\n",
    "\n",
    "model.add(LSTM(units=120,activation='relu'))\n",
    "model.add(Dropout(0.5))\n",
    "\n",
    "model.add(Dense(units=1))\n",
    "\n",
    "model.summary()"
   ]
  },
  {
   "cell_type": "code",
   "execution_count": 82,
   "id": "c6a8f5cf",
   "metadata": {},
   "outputs": [
    {
     "name": "stdout",
     "output_type": "stream",
     "text": [
      "Epoch 1/200\n",
      "51/51 [==============================] - 18s 227ms/step - loss: 0.0414\n",
      "Epoch 2/200\n",
      "51/51 [==============================] - 16s 319ms/step - loss: 0.0115\n",
      "Epoch 3/200\n",
      "51/51 [==============================] - 15s 288ms/step - loss: 0.0114\n",
      "Epoch 4/200\n",
      "51/51 [==============================] - 13s 259ms/step - loss: 0.0094\n",
      "Epoch 5/200\n",
      "51/51 [==============================] - 14s 269ms/step - loss: 0.0089\n",
      "Epoch 6/200\n",
      "51/51 [==============================] - 13s 261ms/step - loss: 0.0080\n",
      "Epoch 7/200\n",
      "51/51 [==============================] - 13s 259ms/step - loss: 0.0073\n",
      "Epoch 8/200\n",
      "51/51 [==============================] - 13s 251ms/step - loss: 0.0071\n",
      "Epoch 9/200\n",
      "51/51 [==============================] - 13s 257ms/step - loss: 0.0072\n",
      "Epoch 10/200\n",
      "51/51 [==============================] - 13s 255ms/step - loss: 0.0074\n",
      "Epoch 11/200\n",
      "51/51 [==============================] - 13s 256ms/step - loss: 0.0069\n",
      "Epoch 12/200\n",
      "51/51 [==============================] - 13s 261ms/step - loss: 0.0071\n",
      "Epoch 13/200\n",
      "51/51 [==============================] - 13s 258ms/step - loss: 0.0060\n",
      "Epoch 14/200\n",
      "51/51 [==============================] - 13s 261ms/step - loss: 0.0060\n",
      "Epoch 15/200\n",
      "51/51 [==============================] - 13s 253ms/step - loss: 0.0053\n",
      "Epoch 16/200\n",
      "51/51 [==============================] - 13s 263ms/step - loss: 0.0052\n",
      "Epoch 17/200\n",
      "51/51 [==============================] - 13s 255ms/step - loss: 0.0054\n",
      "Epoch 18/200\n",
      "51/51 [==============================] - 13s 255ms/step - loss: 0.0052\n",
      "Epoch 19/200\n",
      "51/51 [==============================] - 13s 255ms/step - loss: 0.0049\n",
      "Epoch 20/200\n",
      "51/51 [==============================] - 13s 253ms/step - loss: 0.0049\n",
      "Epoch 21/200\n",
      "51/51 [==============================] - 13s 250ms/step - loss: 0.0047\n",
      "Epoch 22/200\n",
      "51/51 [==============================] - 13s 256ms/step - loss: 0.0047\n",
      "Epoch 23/200\n",
      "51/51 [==============================] - 13s 252ms/step - loss: 0.0045\n",
      "Epoch 24/200\n",
      "51/51 [==============================] - 13s 253ms/step - loss: 0.0046\n",
      "Epoch 25/200\n",
      "51/51 [==============================] - 13s 253ms/step - loss: 0.0040\n",
      "Epoch 26/200\n",
      "51/51 [==============================] - 13s 261ms/step - loss: 0.0043\n",
      "Epoch 27/200\n",
      "51/51 [==============================] - 14s 268ms/step - loss: 0.0045\n",
      "Epoch 28/200\n",
      "51/51 [==============================] - 13s 257ms/step - loss: 0.0041\n",
      "Epoch 29/200\n",
      "51/51 [==============================] - 13s 256ms/step - loss: 0.0039\n",
      "Epoch 30/200\n",
      "51/51 [==============================] - 13s 254ms/step - loss: 0.0043\n",
      "Epoch 31/200\n",
      "51/51 [==============================] - 13s 250ms/step - loss: 0.0042\n",
      "Epoch 32/200\n",
      "51/51 [==============================] - 13s 254ms/step - loss: 0.0039\n",
      "Epoch 33/200\n",
      "51/51 [==============================] - 13s 255ms/step - loss: 0.0036\n",
      "Epoch 34/200\n",
      "51/51 [==============================] - 13s 257ms/step - loss: 0.0038\n",
      "Epoch 35/200\n",
      "51/51 [==============================] - 13s 259ms/step - loss: 0.0036\n",
      "Epoch 36/200\n",
      "51/51 [==============================] - 13s 251ms/step - loss: 0.0036\n",
      "Epoch 37/200\n",
      "51/51 [==============================] - 13s 257ms/step - loss: 0.0034\n",
      "Epoch 38/200\n",
      "51/51 [==============================] - 13s 254ms/step - loss: 0.0032\n",
      "Epoch 39/200\n",
      "51/51 [==============================] - 13s 258ms/step - loss: 0.0038\n",
      "Epoch 40/200\n",
      "51/51 [==============================] - 13s 255ms/step - loss: 0.0034\n",
      "Epoch 41/200\n",
      "51/51 [==============================] - 13s 258ms/step - loss: 0.0031\n",
      "Epoch 42/200\n",
      "51/51 [==============================] - 13s 254ms/step - loss: 0.0031\n",
      "Epoch 43/200\n",
      "51/51 [==============================] - 13s 251ms/step - loss: 0.0033\n",
      "Epoch 44/200\n",
      "51/51 [==============================] - 13s 253ms/step - loss: 0.0032\n",
      "Epoch 45/200\n",
      "51/51 [==============================] - 13s 252ms/step - loss: 0.0031\n",
      "Epoch 46/200\n",
      "51/51 [==============================] - 13s 253ms/step - loss: 0.0032\n",
      "Epoch 47/200\n",
      "51/51 [==============================] - 13s 254ms/step - loss: 0.0031\n",
      "Epoch 48/200\n",
      "51/51 [==============================] - 13s 255ms/step - loss: 0.0027\n",
      "Epoch 49/200\n",
      "51/51 [==============================] - 13s 256ms/step - loss: 0.0030\n",
      "Epoch 50/200\n",
      "51/51 [==============================] - 13s 260ms/step - loss: 0.0028\n",
      "Epoch 51/200\n",
      "51/51 [==============================] - 13s 254ms/step - loss: 0.0029\n",
      "Epoch 52/200\n",
      "51/51 [==============================] - 13s 253ms/step - loss: 0.0026\n",
      "Epoch 53/200\n",
      "51/51 [==============================] - 13s 256ms/step - loss: 0.0027\n",
      "Epoch 54/200\n",
      "51/51 [==============================] - 13s 254ms/step - loss: 0.0028\n",
      "Epoch 55/200\n",
      "51/51 [==============================] - 13s 256ms/step - loss: 0.0026\n",
      "Epoch 56/200\n",
      "51/51 [==============================] - 13s 257ms/step - loss: 0.0030\n",
      "Epoch 57/200\n",
      "51/51 [==============================] - 13s 256ms/step - loss: 0.0029\n",
      "Epoch 58/200\n",
      "51/51 [==============================] - 13s 260ms/step - loss: 0.0025\n",
      "Epoch 59/200\n",
      "51/51 [==============================] - 13s 255ms/step - loss: 0.0027\n",
      "Epoch 60/200\n",
      "51/51 [==============================] - 13s 258ms/step - loss: 0.0026\n",
      "Epoch 61/200\n",
      "51/51 [==============================] - 13s 255ms/step - loss: 0.0026\n",
      "Epoch 62/200\n",
      "51/51 [==============================] - 13s 257ms/step - loss: 0.0025\n",
      "Epoch 63/200\n",
      "51/51 [==============================] - 13s 257ms/step - loss: 0.0026\n",
      "Epoch 64/200\n",
      "51/51 [==============================] - 13s 256ms/step - loss: 0.0028\n",
      "Epoch 65/200\n",
      "51/51 [==============================] - 14s 279ms/step - loss: 0.0026\n",
      "Epoch 66/200\n",
      "51/51 [==============================] - 14s 275ms/step - loss: 0.0027\n",
      "Epoch 67/200\n",
      "51/51 [==============================] - 13s 258ms/step - loss: 0.0027\n",
      "Epoch 68/200\n",
      "51/51 [==============================] - 13s 254ms/step - loss: 0.0026\n",
      "Epoch 69/200\n",
      "51/51 [==============================] - 13s 255ms/step - loss: 0.0027\n",
      "Epoch 70/200\n",
      "51/51 [==============================] - 14s 271ms/step - loss: 0.0026\n",
      "Epoch 71/200\n",
      "51/51 [==============================] - 13s 257ms/step - loss: 0.0024\n",
      "Epoch 72/200\n",
      "51/51 [==============================] - 13s 256ms/step - loss: 0.0024\n",
      "Epoch 73/200\n",
      "51/51 [==============================] - 13s 255ms/step - loss: 0.0027\n",
      "Epoch 74/200\n",
      "51/51 [==============================] - 13s 257ms/step - loss: 0.0024\n",
      "Epoch 75/200\n",
      "51/51 [==============================] - 13s 256ms/step - loss: 0.0026\n",
      "Epoch 76/200\n",
      "51/51 [==============================] - 13s 252ms/step - loss: 0.0024\n",
      "Epoch 77/200\n",
      "51/51 [==============================] - 13s 256ms/step - loss: 0.0023\n",
      "Epoch 78/200\n",
      "51/51 [==============================] - 13s 259ms/step - loss: 0.0024\n",
      "Epoch 79/200\n",
      "51/51 [==============================] - 13s 253ms/step - loss: 0.0025\n",
      "Epoch 80/200\n",
      "51/51 [==============================] - 13s 255ms/step - loss: 0.0023\n",
      "Epoch 81/200\n",
      "51/51 [==============================] - 13s 253ms/step - loss: 0.0023\n",
      "Epoch 82/200\n",
      "51/51 [==============================] - 13s 254ms/step - loss: 0.0023\n",
      "Epoch 83/200\n",
      "51/51 [==============================] - 13s 262ms/step - loss: 0.0023\n",
      "Epoch 84/200\n",
      "51/51 [==============================] - 13s 257ms/step - loss: 0.0023\n",
      "Epoch 85/200\n",
      "51/51 [==============================] - 13s 260ms/step - loss: 0.0022\n",
      "Epoch 86/200\n",
      "51/51 [==============================] - 13s 254ms/step - loss: 0.0023\n",
      "Epoch 87/200\n",
      "51/51 [==============================] - 13s 255ms/step - loss: 0.0024\n",
      "Epoch 88/200\n",
      "51/51 [==============================] - 13s 263ms/step - loss: 0.0023\n",
      "Epoch 89/200\n",
      "51/51 [==============================] - 13s 255ms/step - loss: 0.0022\n",
      "Epoch 90/200\n",
      "51/51 [==============================] - 13s 257ms/step - loss: 0.0023\n",
      "Epoch 91/200\n",
      "51/51 [==============================] - 13s 254ms/step - loss: 0.0021\n",
      "Epoch 92/200\n",
      "51/51 [==============================] - 13s 258ms/step - loss: 0.0021\n",
      "Epoch 93/200\n",
      "51/51 [==============================] - 14s 280ms/step - loss: 0.0021\n",
      "Epoch 94/200\n",
      "51/51 [==============================] - 14s 281ms/step - loss: 0.0021\n",
      "Epoch 95/200\n",
      "51/51 [==============================] - 14s 267ms/step - loss: 0.0022\n",
      "Epoch 96/200\n",
      "51/51 [==============================] - 13s 264ms/step - loss: 0.0022\n",
      "Epoch 97/200\n",
      "51/51 [==============================] - 13s 260ms/step - loss: 0.0022\n",
      "Epoch 98/200\n",
      "51/51 [==============================] - 13s 252ms/step - loss: 0.0023\n",
      "Epoch 99/200\n",
      "51/51 [==============================] - 13s 256ms/step - loss: 0.0025\n",
      "Epoch 100/200\n",
      "51/51 [==============================] - 13s 251ms/step - loss: 0.0022\n",
      "Epoch 101/200\n",
      "51/51 [==============================] - 13s 252ms/step - loss: 0.0021\n",
      "Epoch 102/200\n",
      "51/51 [==============================] - 13s 254ms/step - loss: 0.0023\n",
      "Epoch 103/200\n",
      "51/51 [==============================] - 13s 252ms/step - loss: 0.0022\n",
      "Epoch 104/200\n",
      "51/51 [==============================] - 13s 255ms/step - loss: 0.0020\n",
      "Epoch 105/200\n",
      "51/51 [==============================] - 13s 251ms/step - loss: 0.0021\n",
      "Epoch 106/200\n",
      "51/51 [==============================] - 13s 250ms/step - loss: 0.0020\n",
      "Epoch 107/200\n",
      "51/51 [==============================] - 13s 249ms/step - loss: 0.0022\n",
      "Epoch 108/200\n",
      "51/51 [==============================] - 14s 266ms/step - loss: 0.0022\n",
      "Epoch 109/200\n",
      "51/51 [==============================] - 13s 255ms/step - loss: 0.0022\n",
      "Epoch 110/200\n",
      "51/51 [==============================] - 13s 251ms/step - loss: 0.0022\n",
      "Epoch 111/200\n",
      "51/51 [==============================] - 13s 251ms/step - loss: 0.0020\n",
      "Epoch 112/200\n",
      "51/51 [==============================] - 13s 251ms/step - loss: 0.0021\n",
      "Epoch 113/200\n",
      "51/51 [==============================] - 13s 256ms/step - loss: 0.0020\n",
      "Epoch 114/200\n",
      "51/51 [==============================] - 13s 251ms/step - loss: 0.0020\n",
      "Epoch 115/200\n",
      "51/51 [==============================] - 13s 256ms/step - loss: 0.0021\n",
      "Epoch 116/200\n",
      "51/51 [==============================] - 13s 251ms/step - loss: 0.0020\n",
      "Epoch 117/200\n",
      "51/51 [==============================] - 13s 249ms/step - loss: 0.0021\n",
      "Epoch 118/200\n",
      "51/51 [==============================] - 13s 255ms/step - loss: 0.0020\n",
      "Epoch 119/200\n",
      "51/51 [==============================] - 13s 254ms/step - loss: 0.0020\n",
      "Epoch 120/200\n",
      "51/51 [==============================] - 13s 254ms/step - loss: 0.0022\n",
      "Epoch 121/200\n",
      "51/51 [==============================] - 13s 253ms/step - loss: 0.0020\n",
      "Epoch 122/200\n",
      "51/51 [==============================] - 14s 269ms/step - loss: 0.0020\n",
      "Epoch 123/200\n",
      "51/51 [==============================] - 13s 260ms/step - loss: 0.0021\n",
      "Epoch 124/200\n",
      "51/51 [==============================] - 13s 259ms/step - loss: 0.0020\n",
      "Epoch 125/200\n",
      "51/51 [==============================] - 13s 257ms/step - loss: 0.0020\n",
      "Epoch 126/200\n",
      "51/51 [==============================] - 13s 258ms/step - loss: 0.0021\n",
      "Epoch 127/200\n",
      "51/51 [==============================] - 13s 253ms/step - loss: 0.0020\n",
      "Epoch 128/200\n",
      "51/51 [==============================] - 13s 256ms/step - loss: 0.0021\n",
      "Epoch 129/200\n",
      "51/51 [==============================] - 13s 255ms/step - loss: 0.0019\n",
      "Epoch 130/200\n",
      "51/51 [==============================] - 13s 258ms/step - loss: 0.0020\n",
      "Epoch 131/200\n",
      "51/51 [==============================] - 13s 257ms/step - loss: 0.0019\n",
      "Epoch 132/200\n",
      "51/51 [==============================] - 13s 253ms/step - loss: 0.0021\n",
      "Epoch 133/200\n",
      "51/51 [==============================] - 13s 257ms/step - loss: 0.0020\n",
      "Epoch 134/200\n",
      "51/51 [==============================] - 13s 253ms/step - loss: 0.0019\n",
      "Epoch 135/200\n",
      "51/51 [==============================] - 13s 254ms/step - loss: 0.0021\n",
      "Epoch 136/200\n",
      "51/51 [==============================] - 13s 253ms/step - loss: 0.0018\n",
      "Epoch 137/200\n",
      "51/51 [==============================] - 13s 252ms/step - loss: 0.0021\n",
      "Epoch 138/200\n",
      "51/51 [==============================] - 13s 259ms/step - loss: 0.0020\n",
      "Epoch 139/200\n",
      "51/51 [==============================] - 13s 253ms/step - loss: 0.0020\n",
      "Epoch 140/200\n",
      "51/51 [==============================] - 13s 256ms/step - loss: 0.0017\n",
      "Epoch 141/200\n",
      "51/51 [==============================] - 13s 251ms/step - loss: 0.0020\n",
      "Epoch 142/200\n",
      "51/51 [==============================] - 13s 252ms/step - loss: 0.0020\n",
      "Epoch 143/200\n",
      "51/51 [==============================] - 13s 259ms/step - loss: 0.0020\n",
      "Epoch 144/200\n",
      "51/51 [==============================] - 13s 252ms/step - loss: 0.0022\n",
      "Epoch 145/200\n",
      "51/51 [==============================] - 13s 256ms/step - loss: 0.0019\n",
      "Epoch 146/200\n",
      "51/51 [==============================] - 13s 251ms/step - loss: 0.0018\n",
      "Epoch 147/200\n",
      "51/51 [==============================] - 13s 255ms/step - loss: 0.0020\n",
      "Epoch 148/200\n",
      "51/51 [==============================] - 13s 261ms/step - loss: 0.0020\n",
      "Epoch 149/200\n",
      "51/51 [==============================] - 13s 251ms/step - loss: 0.0020\n",
      "Epoch 150/200\n",
      "51/51 [==============================] - 13s 255ms/step - loss: 0.0020\n",
      "Epoch 151/200\n",
      "51/51 [==============================] - 13s 258ms/step - loss: 0.0021\n",
      "Epoch 152/200\n",
      "51/51 [==============================] - 13s 256ms/step - loss: 0.0019\n",
      "Epoch 153/200\n",
      "51/51 [==============================] - 13s 259ms/step - loss: 0.0019\n",
      "Epoch 154/200\n",
      "51/51 [==============================] - 13s 257ms/step - loss: 0.0020\n",
      "Epoch 155/200\n",
      "51/51 [==============================] - 13s 258ms/step - loss: 0.0019\n",
      "Epoch 156/200\n",
      "51/51 [==============================] - 13s 254ms/step - loss: 0.0018\n",
      "Epoch 157/200\n",
      "51/51 [==============================] - 13s 256ms/step - loss: 0.0021\n",
      "Epoch 158/200\n",
      "51/51 [==============================] - 13s 260ms/step - loss: 0.0019\n",
      "Epoch 159/200\n",
      "51/51 [==============================] - 13s 254ms/step - loss: 0.0021\n",
      "Epoch 160/200\n",
      "51/51 [==============================] - 13s 258ms/step - loss: 0.0018\n",
      "Epoch 161/200\n",
      "51/51 [==============================] - 13s 256ms/step - loss: 0.0017\n",
      "Epoch 162/200\n",
      "51/51 [==============================] - 13s 255ms/step - loss: 0.0019\n",
      "Epoch 163/200\n",
      "51/51 [==============================] - 13s 263ms/step - loss: 0.0020\n",
      "Epoch 164/200\n",
      "51/51 [==============================] - 13s 254ms/step - loss: 0.0023\n",
      "Epoch 165/200\n",
      "51/51 [==============================] - 13s 254ms/step - loss: 0.0019\n",
      "Epoch 166/200\n",
      "51/51 [==============================] - 13s 254ms/step - loss: 0.0019\n",
      "Epoch 167/200\n",
      "51/51 [==============================] - 13s 253ms/step - loss: 0.0018\n",
      "Epoch 168/200\n",
      "51/51 [==============================] - 13s 257ms/step - loss: 0.0018\n",
      "Epoch 169/200\n",
      "51/51 [==============================] - 13s 254ms/step - loss: 0.0022\n",
      "Epoch 170/200\n",
      "51/51 [==============================] - 13s 264ms/step - loss: 0.0021\n",
      "Epoch 171/200\n",
      "51/51 [==============================] - 13s 259ms/step - loss: 0.0018\n",
      "Epoch 172/200\n",
      "51/51 [==============================] - 13s 253ms/step - loss: 0.0019\n",
      "Epoch 173/200\n",
      "51/51 [==============================] - 14s 265ms/step - loss: 0.0017\n",
      "Epoch 174/200\n",
      "51/51 [==============================] - 14s 274ms/step - loss: 0.0020\n",
      "Epoch 175/200\n",
      "51/51 [==============================] - 14s 269ms/step - loss: 0.0019\n",
      "Epoch 176/200\n",
      "51/51 [==============================] - 14s 274ms/step - loss: 0.0018\n",
      "Epoch 177/200\n",
      "51/51 [==============================] - 14s 281ms/step - loss: 0.0019\n",
      "Epoch 178/200\n",
      "51/51 [==============================] - 15s 304ms/step - loss: 0.0018\n",
      "Epoch 179/200\n",
      "51/51 [==============================] - 15s 303ms/step - loss: 0.0019\n",
      "Epoch 180/200\n",
      "51/51 [==============================] - 15s 289ms/step - loss: 0.0016\n",
      "Epoch 181/200\n",
      "51/51 [==============================] - 14s 282ms/step - loss: 0.0019\n",
      "Epoch 182/200\n",
      "51/51 [==============================] - 13s 264ms/step - loss: 0.0019\n",
      "Epoch 183/200\n",
      "51/51 [==============================] - 13s 255ms/step - loss: 0.0019\n",
      "Epoch 184/200\n",
      "51/51 [==============================] - 13s 257ms/step - loss: 0.0020\n",
      "Epoch 185/200\n",
      "51/51 [==============================] - 13s 253ms/step - loss: 0.0020\n",
      "Epoch 186/200\n",
      "51/51 [==============================] - 13s 255ms/step - loss: 0.0018\n",
      "Epoch 187/200\n",
      "51/51 [==============================] - 14s 284ms/step - loss: 0.0018\n",
      "Epoch 188/200\n",
      "51/51 [==============================] - 14s 283ms/step - loss: 0.0018\n",
      "Epoch 189/200\n",
      "51/51 [==============================] - 14s 273ms/step - loss: 0.0019\n",
      "Epoch 190/200\n",
      "51/51 [==============================] - 13s 265ms/step - loss: 0.0018\n",
      "Epoch 191/200\n",
      "51/51 [==============================] - 13s 259ms/step - loss: 0.0018\n",
      "Epoch 192/200\n",
      "51/51 [==============================] - 13s 260ms/step - loss: 0.0018\n",
      "Epoch 193/200\n",
      "51/51 [==============================] - 13s 254ms/step - loss: 0.0018\n",
      "Epoch 194/200\n"
     ]
    },
    {
     "name": "stdout",
     "output_type": "stream",
     "text": [
      "51/51 [==============================] - 13s 258ms/step - loss: 0.0018\n",
      "Epoch 195/200\n",
      "51/51 [==============================] - 13s 254ms/step - loss: 0.0017\n",
      "Epoch 196/200\n",
      "51/51 [==============================] - 13s 253ms/step - loss: 0.0017\n",
      "Epoch 197/200\n",
      "51/51 [==============================] - 13s 259ms/step - loss: 0.0019\n",
      "Epoch 198/200\n",
      "51/51 [==============================] - 14s 268ms/step - loss: 0.0019\n",
      "Epoch 199/200\n",
      "51/51 [==============================] - 13s 259ms/step - loss: 0.0019\n",
      "Epoch 200/200\n",
      "51/51 [==============================] - 13s 256ms/step - loss: 0.0018\n"
     ]
    },
    {
     "data": {
      "text/plain": [
       "<keras.callbacks.History at 0x238b787e460>"
      ]
     },
     "execution_count": 82,
     "metadata": {},
     "output_type": "execute_result"
    }
   ],
   "source": [
    "model.compile(optimizer='adam',loss='mean_squared_error')\n",
    "\n",
    "model.fit(x_train,y_train,epochs=200)"
   ]
  },
  {
   "cell_type": "code",
   "execution_count": 84,
   "id": "596356f8",
   "metadata": {},
   "outputs": [],
   "source": [
    "model.save('keras_model.h5')"
   ]
  },
  {
   "cell_type": "code",
   "execution_count": null,
   "id": "a49f0805",
   "metadata": {},
   "outputs": [],
   "source": []
  },
  {
   "cell_type": "code",
   "execution_count": 4,
   "id": "b3173cdb",
   "metadata": {},
   "outputs": [
    {
     "ename": "NameError",
     "evalue": "name 'joblib' is not defined",
     "output_type": "error",
     "traceback": [
      "\u001b[1;31m---------------------------------------------------------------------------\u001b[0m",
      "\u001b[1;31mNameError\u001b[0m                                 Traceback (most recent call last)",
      "\u001b[1;32m~\\AppData\\Local\\Temp/ipykernel_28716/1130929481.py\u001b[0m in \u001b[0;36m<module>\u001b[1;34m\u001b[0m\n\u001b[1;32m----> 1\u001b[1;33m \u001b[0mjoblib\u001b[0m\u001b[1;33m.\u001b[0m\u001b[0mdump\u001b[0m\u001b[1;33m(\u001b[0m\u001b[0mmodel\u001b[0m\u001b[1;33m,\u001b[0m\u001b[1;34m'lstm_model.sav'\u001b[0m\u001b[1;33m)\u001b[0m\u001b[1;33m\u001b[0m\u001b[1;33m\u001b[0m\u001b[0m\n\u001b[0m",
      "\u001b[1;31mNameError\u001b[0m: name 'joblib' is not defined"
     ]
    }
   ],
   "source": [
    "joblib.dump(model,'lstm_model.sav')"
   ]
  },
  {
   "cell_type": "code",
   "execution_count": 85,
   "id": "db650bc6",
   "metadata": {},
   "outputs": [],
   "source": [
    "past_100_days=data_train.tail(100)\n",
    "final_df=past_100_days.append(data_test,ignore_index=True)"
   ]
  },
  {
   "cell_type": "code",
   "execution_count": 86,
   "id": "d7a92e2e",
   "metadata": {},
   "outputs": [
    {
     "data": {
      "text/html": [
       "<div>\n",
       "<style scoped>\n",
       "    .dataframe tbody tr th:only-of-type {\n",
       "        vertical-align: middle;\n",
       "    }\n",
       "\n",
       "    .dataframe tbody tr th {\n",
       "        vertical-align: top;\n",
       "    }\n",
       "\n",
       "    .dataframe thead th {\n",
       "        text-align: right;\n",
       "    }\n",
       "</style>\n",
       "<table border=\"1\" class=\"dataframe\">\n",
       "  <thead>\n",
       "    <tr style=\"text-align: right;\">\n",
       "      <th></th>\n",
       "      <th>Close</th>\n",
       "    </tr>\n",
       "  </thead>\n",
       "  <tbody>\n",
       "    <tr>\n",
       "      <th>0</th>\n",
       "      <td>57.500000</td>\n",
       "    </tr>\n",
       "    <tr>\n",
       "      <th>1</th>\n",
       "      <td>55.750000</td>\n",
       "    </tr>\n",
       "    <tr>\n",
       "      <th>2</th>\n",
       "      <td>55.500000</td>\n",
       "    </tr>\n",
       "    <tr>\n",
       "      <th>3</th>\n",
       "      <td>56.099998</td>\n",
       "    </tr>\n",
       "    <tr>\n",
       "      <th>4</th>\n",
       "      <td>57.250000</td>\n",
       "    </tr>\n",
       "  </tbody>\n",
       "</table>\n",
       "</div>"
      ],
      "text/plain": [
       "       Close\n",
       "0  57.500000\n",
       "1  55.750000\n",
       "2  55.500000\n",
       "3  56.099998\n",
       "4  57.250000"
      ]
     },
     "execution_count": 86,
     "metadata": {},
     "output_type": "execute_result"
    }
   ],
   "source": [
    "final_df.head()"
   ]
  },
  {
   "cell_type": "code",
   "execution_count": 88,
   "id": "95287cdf",
   "metadata": {},
   "outputs": [
    {
     "data": {
      "text/plain": [
       "(841, 1)"
      ]
     },
     "execution_count": 88,
     "metadata": {},
     "output_type": "execute_result"
    }
   ],
   "source": [
    "test_data=scaler.fit_transform(final_df)\n",
    "test_data.shape"
   ]
  },
  {
   "cell_type": "code",
   "execution_count": 96,
   "id": "5c3fe3ce",
   "metadata": {},
   "outputs": [],
   "source": [
    "x_test=[]\n",
    "y_test=[]\n",
    "\n",
    "for i in range(100,test_data.shape[0]):\n",
    "    x_test.append(test_data[i-100:i])\n",
    "    y_test.append(test_data[i,0])\n",
    "    \n",
    "x_test,y_test=np.array(x_test),np.array(y_test)"
   ]
  },
  {
   "cell_type": "code",
   "execution_count": 97,
   "id": "76cf8227",
   "metadata": {},
   "outputs": [
    {
     "data": {
      "text/plain": [
       "(741, 100, 1)"
      ]
     },
     "execution_count": 97,
     "metadata": {},
     "output_type": "execute_result"
    }
   ],
   "source": [
    "x_test.shape"
   ]
  },
  {
   "cell_type": "code",
   "execution_count": 98,
   "id": "e40ddfbf",
   "metadata": {},
   "outputs": [
    {
     "name": "stdout",
     "output_type": "stream",
     "text": [
      "24/24 [==============================] - 2s 79ms/step\n"
     ]
    }
   ],
   "source": [
    "y_pred=model.predict(x_test)"
   ]
  },
  {
   "cell_type": "code",
   "execution_count": 99,
   "id": "875eb64c",
   "metadata": {},
   "outputs": [
    {
     "data": {
      "text/plain": [
       "(741, 1)"
      ]
     },
     "execution_count": 99,
     "metadata": {},
     "output_type": "execute_result"
    }
   ],
   "source": [
    "y_pred.shape"
   ]
  },
  {
   "cell_type": "code",
   "execution_count": 100,
   "id": "4381ffde",
   "metadata": {},
   "outputs": [
    {
     "data": {
      "text/plain": [
       "array([0.00380952])"
      ]
     },
     "execution_count": 100,
     "metadata": {},
     "output_type": "execute_result"
    }
   ],
   "source": [
    "scaler.scale_"
   ]
  },
  {
   "cell_type": "code",
   "execution_count": 101,
   "id": "2f5793ad",
   "metadata": {},
   "outputs": [],
   "source": [
    "scale_factor=1/0.00380952\n",
    "y_pred=y_pred*scale_factor\n",
    "y_test=y_test*scale_factor\n"
   ]
  },
  {
   "cell_type": "code",
   "execution_count": 103,
   "id": "a21575f9",
   "metadata": {},
   "outputs": [
    {
     "data": {
      "image/png": "[encoded data removed]",
      "text/plain": [
       "<Figure size 864x432 with 1 Axes>"
      ]
     },
     "metadata": {
      "needs_background": "light"
     },
     "output_type": "display_data"
    }
   ],
   "source": [
    "plt.figure(figsize=(12,6))\n",
    "plt.plot(y_test,label='orginal_price')\n",
    "plt.plot(y_pred,label='predicted_price')\n",
    "plt.xlabel('Time')\n",
    "plt.ylabel('Price')\n",
    "plt.legend()\n",
    "plt.show()"
   ]
  },
  {
   "cell_type": "code",
   "execution_count": null,
   "id": "92b90201",
   "metadata": {},
   "outputs": [],
   "source": []
  }
 ],
 "metadata": {
  "kernelspec": {
   "display_name": "Python 3 (ipykernel)",
   "language": "python",
   "name": "python3"
  },
  "language_info": {
   "codemirror_mode": {
    "name": "ipython",
    "version": 3
   },
   "file_extension": ".py",
   "mimetype": "text/x-python",
   "name": "python",
   "nbconvert_exporter": "python",
   "pygments_lexer": "ipython3",
   "version": "3.10.7"
  }
 },
 "nbformat": 4,
 "nbformat_minor": 5
}
